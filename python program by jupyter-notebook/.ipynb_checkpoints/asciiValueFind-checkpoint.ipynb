{
 "cells": [
  {
   "cell_type": "code",
   "execution_count": 1,
   "id": "ee61a98e",
   "metadata": {},
   "outputs": [
    {
     "name": "stdout",
     "output_type": "stream",
     "text": [
      "Enter any number or character or symbol to know ascii value : 2\n",
      "The ASCII value is :  50\n"
     ]
    }
   ],
   "source": [
    "#programme to find ASCII value\n",
    "\"\"\"\n",
    "Enter any \n",
    "number\n",
    "symbols\n",
    "character\n",
    "\"\"\"\n",
    "elmnt=input(\"Enter any number or character or symbol to know ascii value : \")\n",
    "ascv=ord(elmnt)\n",
    "print(\"The ASCII value is : \",ascv)"
   ]
  },
  {
   "cell_type": "code",
   "execution_count": null,
   "id": "39219c98",
   "metadata": {},
   "outputs": [],
   "source": []
  }
 ],
 "metadata": {
  "kernelspec": {
   "display_name": "Python 3",
   "language": "python",
   "name": "python3"
  },
  "language_info": {
   "codemirror_mode": {
    "name": "ipython",
    "version": 3
   },
   "file_extension": ".py",
   "mimetype": "text/x-python",
   "name": "python",
   "nbconvert_exporter": "python",
   "pygments_lexer": "ipython3",
   "version": "3.8.8"
  }
 },
 "nbformat": 4,
 "nbformat_minor": 5
}
